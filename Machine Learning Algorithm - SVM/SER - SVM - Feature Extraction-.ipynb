{
 "cells": [
  {
   "cell_type": "markdown",
   "metadata": {},
   "source": [
    "# Speech Emotion Recognition - Feature Extraction\n",
    "\n",
    "Databases used\n",
    "\n",
    "* The Ryerson Audio-Visual Database of Emotional Speech and Song (RAVDESS)\n",
    "* Toronto emotional speech set (TESS)"
   ]
  },
  {
   "cell_type": "markdown",
   "metadata": {},
   "source": [
    "### Import Libraries\n",
    "\n",
    "Import necessary libraries"
   ]
  },
  {
   "cell_type": "code",
   "execution_count": 4,
   "metadata": {
    "colab": {},
    "colab_type": "code",
    "id": "4Psuv3UPLaPR"
   },
   "outputs": [],
   "source": [
    "import glob\n",
    "import os\n",
    "import librosa\n",
    "import time\n",
    "import numpy as np\n",
    "import pandas as pd"
   ]
  },
  {
   "cell_type": "markdown",
   "metadata": {
    "colab_type": "text",
    "id": "rBpIgx9bkdgJ"
   },
   "source": [
    "### Load all files\n",
    "\n",
    "We will create our numpy array extracting Mel-frequency cepstral coefficients (MFCCs) while the classes to predict will be extracted from the name of the file."
   ]
  },
  {
   "cell_type": "markdown",
   "metadata": {},
   "source": [
    "#### Defining emotions to classify \n",
    "\n",
    "Selecting the emotions to be classified. Note that the emotions 'neutral', 'calm' and 'surprised' are only found in RAVDESS dataset and 'pleasantly surprised' or 'ps' is only available in TESS dataset. To combine all the emotions from both datasets into 8 emotion classes, we have changed 'pleasantly surprised' to 'surprised' and 'fearful' to 'fear'"
   ]
  },
  {
   "cell_type": "code",
   "execution_count": 1,
   "metadata": {
    "colab": {},
    "colab_type": "code",
    "id": "s16XwP5LK8a3"
   },
   "outputs": [],
   "source": [
    "emotions={\n",
    "  '01':'neutral',\n",
    "  '02':'calm',\n",
    "  '03':'happy',\n",
    "  '04':'sad',\n",
    "  '05':'angry',\n",
    "  '06':'fear',\n",
    "  '07':'disgust',\n",
    "  '08':'surprised'\n",
    "}\n",
    "\n",
    "#defined tess emotions to test on TESS dataset only\n",
    "tess_emotions=['angry','disgust','fear','ps','happy','sad']\n",
    "\n",
    "##defined RAVDESS emotions to test on RAVDESS dataset only\n",
    "ravdess_emotions=['neutral','calm','angry', 'happy','disgust','sad','fear','surprised']\n",
    "\n",
    "observed_emotions = ['sad','angry','happy','disgust','surprised','neutral','calm','fear']"
   ]
  },
  {
   "cell_type": "markdown",
   "metadata": {},
   "source": [
    "#### Feature extraction\n",
    "\n",
    "Using librosa package we can extract the MFCC features. This function loads the file give the file path and after resampling and computing MFCC features, returns the features. We have selected the no. of MFCCs as 40.\n",
    "\n",
    "https://librosa.org/librosa/generated/librosa.feature.mfcc.html"
   ]
  },
  {
   "cell_type": "code",
   "execution_count": 6,
   "metadata": {
    "colab": {},
    "colab_type": "code",
    "id": "h9a81pkWLCs1"
   },
   "outputs": [],
   "source": [
    "def extract_feature(file_name, mfcc):\n",
    "    X, sample_rate = librosa.load(os.path.join(file_name), res_type='kaiser_fast')\n",
    "    if mfcc:\n",
    "        mfccs=np.mean(librosa.feature.mfcc(y=X, sr=sample_rate, n_mfcc=40).T, axis=0)\n",
    "        result=np.hstack((result, mfccs))\n",
    "    return result"
   ]
  },
  {
   "cell_type": "markdown",
   "metadata": {},
   "source": [
    "#### Choosing a dataset\n",
    "\n",
    "Choose the dataset(s) you want to load using the following function"
   ]
  },
  {
   "cell_type": "code",
   "execution_count": 7,
   "metadata": {},
   "outputs": [],
   "source": [
    "def dataset_options():\n",
    "    # choose datasets\n",
    "    ravdess = True\n",
    "    tess = True\n",
    "    ravdess_speech = False\n",
    "    ravdess_song = False\n",
    "    data = {'ravdess':ravdess, 'ravdess_speech':ravdess_speech, 'ravdess_song':ravdess_song, 'tess':tess}\n",
    "    print(data)\n",
    "    return data"
   ]
  },
  {
   "cell_type": "markdown",
   "metadata": {},
   "source": [
    "#### Load data\n",
    "\n",
    "Load data from the datasets required which is obtained by calling the function dataset__options(). Extract features from each file with the selected emotions in chosen datasets using the extract_feature() function defined."
   ]
  },
  {
   "cell_type": "code",
   "execution_count": 9,
   "metadata": {
    "colab": {},
    "colab_type": "code",
    "id": "RaV2hMcxLGZd"
   },
   "outputs": [],
   "source": [
    "def load_data(test_size=0.2): \n",
    "    x,y=[],[]\n",
    "    \n",
    "    # feature to extract\n",
    "    mfcc = True\n",
    "    \n",
    "    data = dataset_options()\n",
    "    paths = []\n",
    "    if data['ravdess']:\n",
    "        paths.append(\"..\\Datasets\\RAVDESS\\*\\Actor_*\\*.wav\")\n",
    "    elif data['ravdess_speech']:\n",
    "        paths.append(\"..\\Datasets\\RAVDESS\\Speech\\Actor_*\\*.wav\")\n",
    "    elif data['ravdess_song']:\n",
    "        paths.append(\"..\\Datasets\\RAVDESS\\Song\\Actor_*\\*.wav\")\n",
    "        \n",
    "    for path in paths:\n",
    "        for file in glob.glob(path):\n",
    "            file_name=os.path.basename(file)\n",
    "            emotion=emotions[file_name.split(\"-\")[2]] #to get emotion according to filename. dictionary emotions is defined above.\n",
    "            if emotion not in observed_emotions: #options observed_emotions - RAVDESS and TESS, ravdess_emotions for RAVDESS only\n",
    "                continue\n",
    "            feature=extract_feature(file, mfcc)\n",
    "            x.append(feature)\n",
    "            y.append(emotion)\n",
    "    if data['tess']:\n",
    "        for file in glob.glob(\"..\\Datasets\\TESS\\*AF_*\\*.wav\"):\n",
    "            file_name=os.path.basename(file)\n",
    "            emotion=file_name.split(\"_\")[2][:-4] #split and remove .wav\n",
    "            if emotion == 'ps':\n",
    "                emotion = 'surprised'\n",
    "            if emotion not in observed_emotions: #options observed_emotions - RAVDESS and TESS, ravdess_emotions for RAVDESS only\n",
    "                continue\n",
    "            feature=extract_feature(file, mfcc)\n",
    "            x.append(feature)\n",
    "            y.append(emotion)\n",
    "    return {\"X\":x,\"y\":y}"
   ]
  },
  {
   "cell_type": "code",
   "execution_count": 10,
   "metadata": {
    "colab": {
     "base_uri": "https://localhost:8080/",
     "height": 34
    },
    "colab_type": "code",
    "id": "LVbx68UMLMAT",
    "outputId": "51a46f14-72ff-4825-83c5-0ce8673f5307"
   },
   "outputs": [
    {
     "name": "stdout",
     "output_type": "stream",
     "text": [
      "{'ravdess': True, 'ravdess_speech': False, 'ravdess_song': False, 'tess': True}\n",
      "--- Data loaded. Loading time: 356.2415828704834 seconds ---\n"
     ]
    }
   ],
   "source": [
    "start_time = time.time()\n",
    "\n",
    "Trial_dict = load_data(test_size = 0.3)\n",
    "\n",
    "print(\"--- Data loaded. Loading time: %s seconds ---\" % (time.time() - start_time))"
   ]
  },
  {
   "cell_type": "code",
   "execution_count": 11,
   "metadata": {
    "colab": {},
    "colab_type": "code",
    "id": "-WAO-j4iLPSn"
   },
   "outputs": [],
   "source": [
    "X = pd.DataFrame(Trial_dict[\"X\"])\n",
    "y = pd.DataFrame(Trial_dict[\"y\"])"
   ]
  },
  {
   "cell_type": "code",
   "execution_count": 12,
   "metadata": {
    "colab": {
     "base_uri": "https://localhost:8080/",
     "height": 34
    },
    "colab_type": "code",
    "id": "Huw2Md1XLQZm",
    "outputId": "6a6cf90d-8449-4990-8bce-af37d4b50706"
   },
   "outputs": [
    {
     "data": {
      "text/plain": [
       "((5252, 40), (5252, 1))"
      ]
     },
     "execution_count": 12,
     "metadata": {},
     "output_type": "execute_result"
    }
   ],
   "source": [
    "X.shape, y.shape"
   ]
  },
  {
   "cell_type": "code",
   "execution_count": 13,
   "metadata": {},
   "outputs": [],
   "source": [
    "#renaming the label column to emotion\n",
    "y=y.rename(columns= {0: 'emotion'})"
   ]
  },
  {
   "cell_type": "code",
   "execution_count": 14,
   "metadata": {},
   "outputs": [],
   "source": [
    "#concatinating the attributes and label into a single dataframe\n",
    "data = pd.concat([X, y], axis =1)"
   ]
  },
  {
   "cell_type": "code",
   "execution_count": 15,
   "metadata": {},
   "outputs": [
    {
     "data": {
      "text/html": [
       "<div>\n",
       "<style scoped>\n",
       "    .dataframe tbody tr th:only-of-type {\n",
       "        vertical-align: middle;\n",
       "    }\n",
       "\n",
       "    .dataframe tbody tr th {\n",
       "        vertical-align: top;\n",
       "    }\n",
       "\n",
       "    .dataframe thead th {\n",
       "        text-align: right;\n",
       "    }\n",
       "</style>\n",
       "<table border=\"1\" class=\"dataframe\">\n",
       "  <thead>\n",
       "    <tr style=\"text-align: right;\">\n",
       "      <th></th>\n",
       "      <th>0</th>\n",
       "      <th>1</th>\n",
       "      <th>2</th>\n",
       "      <th>3</th>\n",
       "      <th>4</th>\n",
       "      <th>5</th>\n",
       "      <th>6</th>\n",
       "      <th>7</th>\n",
       "      <th>8</th>\n",
       "      <th>9</th>\n",
       "      <th>...</th>\n",
       "      <th>31</th>\n",
       "      <th>32</th>\n",
       "      <th>33</th>\n",
       "      <th>34</th>\n",
       "      <th>35</th>\n",
       "      <th>36</th>\n",
       "      <th>37</th>\n",
       "      <th>38</th>\n",
       "      <th>39</th>\n",
       "      <th>emotion</th>\n",
       "    </tr>\n",
       "  </thead>\n",
       "  <tbody>\n",
       "    <tr>\n",
       "      <th>0</th>\n",
       "      <td>-592.968567</td>\n",
       "      <td>55.893475</td>\n",
       "      <td>-19.836720</td>\n",
       "      <td>15.536560</td>\n",
       "      <td>-4.794338</td>\n",
       "      <td>-0.364650</td>\n",
       "      <td>-16.015184</td>\n",
       "      <td>-4.505675</td>\n",
       "      <td>-22.446758</td>\n",
       "      <td>-5.302586</td>\n",
       "      <td>...</td>\n",
       "      <td>-6.580008</td>\n",
       "      <td>-2.471473</td>\n",
       "      <td>-3.679453</td>\n",
       "      <td>-0.385655</td>\n",
       "      <td>1.370497</td>\n",
       "      <td>5.212709</td>\n",
       "      <td>4.105060</td>\n",
       "      <td>8.528406</td>\n",
       "      <td>11.643023</td>\n",
       "      <td>neutral</td>\n",
       "    </tr>\n",
       "    <tr>\n",
       "      <th>1</th>\n",
       "      <td>-572.270142</td>\n",
       "      <td>54.515331</td>\n",
       "      <td>-20.434851</td>\n",
       "      <td>15.288507</td>\n",
       "      <td>-3.772105</td>\n",
       "      <td>-1.746776</td>\n",
       "      <td>-16.040491</td>\n",
       "      <td>-3.834324</td>\n",
       "      <td>-21.938566</td>\n",
       "      <td>-0.855068</td>\n",
       "      <td>...</td>\n",
       "      <td>-6.469828</td>\n",
       "      <td>-2.460897</td>\n",
       "      <td>-4.112655</td>\n",
       "      <td>0.497339</td>\n",
       "      <td>2.076435</td>\n",
       "      <td>4.925778</td>\n",
       "      <td>4.332017</td>\n",
       "      <td>9.669187</td>\n",
       "      <td>11.968567</td>\n",
       "      <td>neutral</td>\n",
       "    </tr>\n",
       "    <tr>\n",
       "      <th>2</th>\n",
       "      <td>-579.631592</td>\n",
       "      <td>54.810806</td>\n",
       "      <td>-15.795018</td>\n",
       "      <td>17.760878</td>\n",
       "      <td>-5.204145</td>\n",
       "      <td>0.406047</td>\n",
       "      <td>-13.555395</td>\n",
       "      <td>-5.260450</td>\n",
       "      <td>-20.265804</td>\n",
       "      <td>-4.165936</td>\n",
       "      <td>...</td>\n",
       "      <td>-5.041465</td>\n",
       "      <td>-2.006429</td>\n",
       "      <td>-3.473266</td>\n",
       "      <td>-0.836756</td>\n",
       "      <td>1.329681</td>\n",
       "      <td>3.319666</td>\n",
       "      <td>5.729831</td>\n",
       "      <td>8.900810</td>\n",
       "      <td>9.879780</td>\n",
       "      <td>neutral</td>\n",
       "    </tr>\n",
       "    <tr>\n",
       "      <th>3</th>\n",
       "      <td>-581.533875</td>\n",
       "      <td>53.867306</td>\n",
       "      <td>-19.620136</td>\n",
       "      <td>17.580286</td>\n",
       "      <td>-6.131991</td>\n",
       "      <td>2.285235</td>\n",
       "      <td>-16.539356</td>\n",
       "      <td>-4.878609</td>\n",
       "      <td>-21.178497</td>\n",
       "      <td>-2.921410</td>\n",
       "      <td>...</td>\n",
       "      <td>-5.276451</td>\n",
       "      <td>-2.091552</td>\n",
       "      <td>-4.794956</td>\n",
       "      <td>0.809350</td>\n",
       "      <td>1.387241</td>\n",
       "      <td>4.056455</td>\n",
       "      <td>6.014116</td>\n",
       "      <td>9.287455</td>\n",
       "      <td>11.116165</td>\n",
       "      <td>neutral</td>\n",
       "    </tr>\n",
       "    <tr>\n",
       "      <th>4</th>\n",
       "      <td>-593.011841</td>\n",
       "      <td>61.859417</td>\n",
       "      <td>-16.897928</td>\n",
       "      <td>17.581987</td>\n",
       "      <td>-2.287433</td>\n",
       "      <td>0.082139</td>\n",
       "      <td>-16.137861</td>\n",
       "      <td>-0.824916</td>\n",
       "      <td>-19.867085</td>\n",
       "      <td>-3.405410</td>\n",
       "      <td>...</td>\n",
       "      <td>2.587166</td>\n",
       "      <td>3.317116</td>\n",
       "      <td>-4.654195</td>\n",
       "      <td>-4.810930</td>\n",
       "      <td>-3.983778</td>\n",
       "      <td>1.917435</td>\n",
       "      <td>5.603800</td>\n",
       "      <td>10.190963</td>\n",
       "      <td>11.394855</td>\n",
       "      <td>calm</td>\n",
       "    </tr>\n",
       "  </tbody>\n",
       "</table>\n",
       "<p>5 rows × 41 columns</p>\n",
       "</div>"
      ],
      "text/plain": [
       "            0          1          2          3         4         5          6  \\\n",
       "0 -592.968567  55.893475 -19.836720  15.536560 -4.794338 -0.364650 -16.015184   \n",
       "1 -572.270142  54.515331 -20.434851  15.288507 -3.772105 -1.746776 -16.040491   \n",
       "2 -579.631592  54.810806 -15.795018  17.760878 -5.204145  0.406047 -13.555395   \n",
       "3 -581.533875  53.867306 -19.620136  17.580286 -6.131991  2.285235 -16.539356   \n",
       "4 -593.011841  61.859417 -16.897928  17.581987 -2.287433  0.082139 -16.137861   \n",
       "\n",
       "          7          8         9  ...        31        32        33        34  \\\n",
       "0 -4.505675 -22.446758 -5.302586  ... -6.580008 -2.471473 -3.679453 -0.385655   \n",
       "1 -3.834324 -21.938566 -0.855068  ... -6.469828 -2.460897 -4.112655  0.497339   \n",
       "2 -5.260450 -20.265804 -4.165936  ... -5.041465 -2.006429 -3.473266 -0.836756   \n",
       "3 -4.878609 -21.178497 -2.921410  ... -5.276451 -2.091552 -4.794956  0.809350   \n",
       "4 -0.824916 -19.867085 -3.405410  ...  2.587166  3.317116 -4.654195 -4.810930   \n",
       "\n",
       "         35        36        37         38         39  emotion  \n",
       "0  1.370497  5.212709  4.105060   8.528406  11.643023  neutral  \n",
       "1  2.076435  4.925778  4.332017   9.669187  11.968567  neutral  \n",
       "2  1.329681  3.319666  5.729831   8.900810   9.879780  neutral  \n",
       "3  1.387241  4.056455  6.014116   9.287455  11.116165  neutral  \n",
       "4 -3.983778  1.917435  5.603800  10.190963  11.394855     calm  \n",
       "\n",
       "[5 rows x 41 columns]"
      ]
     },
     "execution_count": 15,
     "metadata": {},
     "output_type": "execute_result"
    }
   ],
   "source": [
    "data.head()"
   ]
  },
  {
   "cell_type": "markdown",
   "metadata": {},
   "source": [
    "## Shuffling data"
   ]
  },
  {
   "cell_type": "code",
   "execution_count": 16,
   "metadata": {},
   "outputs": [],
   "source": [
    "#reindexing to shuffle the data at random\n",
    "data = data.reindex(np.random.permutation(data.index))"
   ]
  },
  {
   "cell_type": "code",
   "execution_count": 17,
   "metadata": {},
   "outputs": [],
   "source": [
    "# Storing shuffled ravdess and tess data to avoid loading again\n",
    "data.to_csv(\"RAVTESS_MFCC_Observed.csv\")"
   ]
  },
  {
   "cell_type": "code",
   "execution_count": null,
   "metadata": {},
   "outputs": [],
   "source": []
  }
 ],
 "metadata": {
  "colab": {
   "collapsed_sections": [],
   "name": "SVM trial 2.ipynb",
   "provenance": []
  },
  "kernelspec": {
   "display_name": "Python 3",
   "language": "python",
   "name": "python3"
  },
  "language_info": {
   "codemirror_mode": {
    "name": "ipython",
    "version": 3
   },
   "file_extension": ".py",
   "mimetype": "text/x-python",
   "name": "python",
   "nbconvert_exporter": "python",
   "pygments_lexer": "ipython3",
   "version": "3.7.1"
  }
 },
 "nbformat": 4,
 "nbformat_minor": 1
}
